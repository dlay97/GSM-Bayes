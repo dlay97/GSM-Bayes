{
 "cells": [
  {
   "cell_type": "code",
   "execution_count": 1,
   "metadata": {},
   "outputs": [],
   "source": [
    "# import processGSM python file to use functions that handle data \n",
    "from processFilesGSM import processGSM_V2\n",
    "import os\n",
    "import numpy as np"
   ]
  },
  {
   "cell_type": "code",
   "execution_count": 2,
   "metadata": {},
   "outputs": [],
   "source": [
    "basePath = os.getcwd()"
   ]
  },
  {
   "cell_type": "code",
   "execution_count": 5,
   "metadata": {},
   "outputs": [
    {
     "name": "stdout",
     "output_type": "stream",
     "text": [
      "['c:/Users/1josh/Documents/FRIBTA_Summer_School_2023_RBMs_projects/GSM-Bayes/neutron_test.out']\n"
     ]
    },
    {
     "data": {
      "text/html": [
       "<div>\n",
       "<style scoped>\n",
       "    .dataframe tbody tr th:only-of-type {\n",
       "        vertical-align: middle;\n",
       "    }\n",
       "\n",
       "    .dataframe tbody tr th {\n",
       "        vertical-align: top;\n",
       "    }\n",
       "\n",
       "    .dataframe thead th {\n",
       "        text-align: right;\n",
       "    }\n",
       "</style>\n",
       "<table border=\"1\" class=\"dataframe\">\n",
       "  <thead>\n",
       "    <tr style=\"text-align: right;\">\n",
       "      <th></th>\n",
       "      <th>0</th>\n",
       "      <th>E(3/2-) MeV</th>\n",
       "      <th>HPSI 3/2-</th>\n",
       "    </tr>\n",
       "  </thead>\n",
       "  <tbody>\n",
       "    <tr>\n",
       "      <th>0</th>\n",
       "      <td>c:/Users/1josh/Documents/FRIBTA_Summer_School_...</td>\n",
       "      <td>0.737152-0.319437j</td>\n",
       "      <td>7.053248e-11</td>\n",
       "    </tr>\n",
       "  </tbody>\n",
       "</table>\n",
       "</div>"
      ],
      "text/plain": [
       "                                                   0         E(3/2-) MeV  \\\n",
       "0  c:/Users/1josh/Documents/FRIBTA_Summer_School_...  0.737152-0.319437j   \n",
       "\n",
       "      HPSI 3/2-  \n",
       "0  7.053248e-11  "
      ]
     },
     "metadata": {},
     "output_type": "display_data"
    }
   ],
   "source": [
    "gsm = processGSM_V2()\n",
    "\n",
    "gsm.getFiles(basePath,filterChars_=['.out','neutron'])\n",
    "print(gsm.myFiles)\n",
    "gsm.getStateInfo()\n",
    "display(gsm.dataInfo)"
   ]
  },
  {
   "cell_type": "code",
   "execution_count": 7,
   "metadata": {},
   "outputs": [
    {
     "name": "stdout",
     "output_type": "stream",
     "text": [
      "(array([0.73715198]), array([0.63887387]))\n"
     ]
    }
   ],
   "source": [
    "def toEandGamma(eTilde):\n",
    "    # Returns Energy and Gamma given a complex energy \\tilde{E}\n",
    "    return np.real(eTilde), -2*np.imag(eTilde)\n",
    "\n",
    "print(toEandGamma(gsm.dataInfo['E(3/2-) MeV']))"
   ]
  },
  {
   "cell_type": "code",
   "execution_count": null,
   "metadata": {},
   "outputs": [],
   "source": []
  }
 ],
 "metadata": {
  "kernelspec": {
   "display_name": "Python 3",
   "language": "python",
   "name": "python3"
  },
  "language_info": {
   "codemirror_mode": {
    "name": "ipython",
    "version": 3
   },
   "file_extension": ".py",
   "mimetype": "text/x-python",
   "name": "python",
   "nbconvert_exporter": "python",
   "pygments_lexer": "ipython3",
   "version": "3.10.10"
  },
  "vscode": {
   "interpreter": {
    "hash": "7adfc25670545b8c716ac6953dcad6e3c91ad61b9566d9d87f99e14f73cc2e3d"
   }
  }
 },
 "nbformat": 4,
 "nbformat_minor": 2
}
